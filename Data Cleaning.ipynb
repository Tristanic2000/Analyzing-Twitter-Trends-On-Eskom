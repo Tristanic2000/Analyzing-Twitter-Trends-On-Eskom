{
 "cells": [
  {
   "cell_type": "code",
   "execution_count": 1,
   "id": "01c71e3b-cf90-4170-bf24-d64a9eb9b487",
   "metadata": {},
   "outputs": [],
   "source": [
    "import pandas as pd\n",
    "import numpy as np\n",
    "import nltk\n",
    "from nltk.corpus import stopwords\n",
    "from nltk import WordNetLemmatizer\n",
    "import re"
   ]
  },
  {
   "cell_type": "code",
   "execution_count": 2,
   "id": "832aad04-1d77-4a76-aad1-dc76039b9da1",
   "metadata": {},
   "outputs": [
    {
     "data": {
      "text/html": [
       "<div>\n",
       "<style scoped>\n",
       "    .dataframe tbody tr th:only-of-type {\n",
       "        vertical-align: middle;\n",
       "    }\n",
       "\n",
       "    .dataframe tbody tr th {\n",
       "        vertical-align: top;\n",
       "    }\n",
       "\n",
       "    .dataframe thead th {\n",
       "        text-align: right;\n",
       "    }\n",
       "</style>\n",
       "<table border=\"1\" class=\"dataframe\">\n",
       "  <thead>\n",
       "    <tr style=\"text-align: right;\">\n",
       "      <th></th>\n",
       "      <th>datetime</th>\n",
       "      <th>tweet_id</th>\n",
       "      <th>text</th>\n",
       "      <th>username</th>\n",
       "      <th>like_count</th>\n",
       "      <th>display_name</th>\n",
       "      <th>lang</th>\n",
       "    </tr>\n",
       "  </thead>\n",
       "  <tbody>\n",
       "    <tr>\n",
       "      <th>0</th>\n",
       "      <td>2022-07-15 23:56:53+00:00</td>\n",
       "      <td>1548094282900221953</td>\n",
       "      <td>The government is considering creating a secon...</td>\n",
       "      <td>TimesLIVE</td>\n",
       "      <td>85</td>\n",
       "      <td>Times LIVE</td>\n",
       "      <td>en</td>\n",
       "    </tr>\n",
       "    <tr>\n",
       "      <th>1</th>\n",
       "      <td>2022-07-15 23:54:59+00:00</td>\n",
       "      <td>1548093802857934849</td>\n",
       "      <td>@lebomosebetsi Selo se se dirwang ke @Eskom_SA...</td>\n",
       "      <td>Dan24Stock</td>\n",
       "      <td>0</td>\n",
       "      <td>𝗗𝗮𝗻𝗶𝗲𝗹 🇿🇦 𝗦𝘁𝗼𝗰𝗸.</td>\n",
       "      <td>tl</td>\n",
       "    </tr>\n",
       "    <tr>\n",
       "      <th>2</th>\n",
       "      <td>2022-07-15 23:50:41+00:00</td>\n",
       "      <td>1548092722166132738</td>\n",
       "      <td>@nickhedley The only way to fix the current en...</td>\n",
       "      <td>KingTNgema</td>\n",
       "      <td>0</td>\n",
       "      <td>Born A King</td>\n",
       "      <td>en</td>\n",
       "    </tr>\n",
       "    <tr>\n",
       "      <th>3</th>\n",
       "      <td>2022-07-15 23:43:00+00:00</td>\n",
       "      <td>1548090785450434566</td>\n",
       "      <td>@Pastorransley He has awarded himself.  \\n\\nHe...</td>\n",
       "      <td>Constitution_94</td>\n",
       "      <td>0</td>\n",
       "      <td>Constitution First 🇿🇦</td>\n",
       "      <td>en</td>\n",
       "    </tr>\n",
       "    <tr>\n",
       "      <th>4</th>\n",
       "      <td>2022-07-15 23:40:14+00:00</td>\n",
       "      <td>1548090089334382596</td>\n",
       "      <td>Also @Eskom_SA ???</td>\n",
       "      <td>katleho_katlii</td>\n",
       "      <td>0</td>\n",
       "      <td>Katleho. 🍫</td>\n",
       "      <td>en</td>\n",
       "    </tr>\n",
       "  </tbody>\n",
       "</table>\n",
       "</div>"
      ],
      "text/plain": [
       "                    datetime             tweet_id  \\\n",
       "0  2022-07-15 23:56:53+00:00  1548094282900221953   \n",
       "1  2022-07-15 23:54:59+00:00  1548093802857934849   \n",
       "2  2022-07-15 23:50:41+00:00  1548092722166132738   \n",
       "3  2022-07-15 23:43:00+00:00  1548090785450434566   \n",
       "4  2022-07-15 23:40:14+00:00  1548090089334382596   \n",
       "\n",
       "                                                text         username  \\\n",
       "0  The government is considering creating a secon...        TimesLIVE   \n",
       "1  @lebomosebetsi Selo se se dirwang ke @Eskom_SA...       Dan24Stock   \n",
       "2  @nickhedley The only way to fix the current en...       KingTNgema   \n",
       "3  @Pastorransley He has awarded himself.  \\n\\nHe...  Constitution_94   \n",
       "4                                 Also @Eskom_SA ???   katleho_katlii   \n",
       "\n",
       "   like_count           display_name lang  \n",
       "0          85             Times LIVE   en  \n",
       "1           0       𝗗𝗮𝗻𝗶𝗲𝗹 🇿🇦 𝗦𝘁𝗼𝗰𝗸.   tl  \n",
       "2           0            Born A King   en  \n",
       "3           0  Constitution First 🇿🇦   en  \n",
       "4           0             Katleho. 🍫   en  "
      ]
     },
     "execution_count": 2,
     "metadata": {},
     "output_type": "execute_result"
    }
   ],
   "source": [
    "tweets_df = pd.read_csv('data/raw_data.csv')\n",
    "tweets_df.head()"
   ]
  },
  {
   "cell_type": "code",
   "execution_count": 3,
   "id": "d08b0898-7fd5-42f4-aaeb-57ce562cc6f2",
   "metadata": {},
   "outputs": [
    {
     "data": {
      "text/plain": [
       "(310690, 7)"
      ]
     },
     "execution_count": 3,
     "metadata": {},
     "output_type": "execute_result"
    }
   ],
   "source": [
    "tweets_df.shape"
   ]
  },
  {
   "cell_type": "code",
   "execution_count": 4,
   "id": "45c26e29-05ba-40d4-aba8-06606f409f5e",
   "metadata": {},
   "outputs": [
    {
     "data": {
      "text/plain": [
       "(266468, 7)"
      ]
     },
     "execution_count": 4,
     "metadata": {},
     "output_type": "execute_result"
    }
   ],
   "source": [
    "# Remove non-English tweets\n",
    "tweets_df = tweets_df[tweets_df['lang']=='en']\n",
    "tweets_df.shape"
   ]
  },
  {
   "cell_type": "code",
   "execution_count": 5,
   "id": "ec342e72-0b74-47e9-a265-e5730ade40f3",
   "metadata": {},
   "outputs": [],
   "source": [
    "# nltk.download('stopwords')\n",
    "# nltk.download('wordnet')\n",
    "# nltk.download('omw-1.4')"
   ]
  },
  {
   "cell_type": "code",
   "execution_count": 6,
   "id": "fd46e9c1-3a50-42a8-b44e-ab4a8a6cac55",
   "metadata": {},
   "outputs": [],
   "source": [
    "STOPWORDS = stopwords.words('english')\n",
    "lemmatizer = WordNetLemmatizer()"
   ]
  },
  {
   "cell_type": "code",
   "execution_count": 7,
   "id": "41d2072a-fc65-415f-9bc0-12fea58fb077",
   "metadata": {},
   "outputs": [],
   "source": [
    "def clean_text(text, lower=True, lemm=True, tokenization=False, stopwords=STOPWORDS):\n",
    "    '''Clean raw text'''\n",
    "    # Lowercase\n",
    "    if lower:\n",
    "        text = text.lower()\n",
    "        \n",
    "    # Remove stopwords\n",
    "    if len(stopwords):\n",
    "        pattern = re.compile(r'\\b(' + r'|'.join(stopwords) + r')\\b\\s*')\n",
    "        text = pattern.sub('', text)\n",
    "    \n",
    "    # Remove mentions\n",
    "    text = re.sub(r'@[A-Za-z0-9_]+', '', text)\n",
    "    \n",
    "    # Remove links\n",
    "    text = re.sub(r'http\\S+', '', text)\n",
    "    \n",
    "    # Remove & sign\n",
    "    text = re.sub(r'&amp+', '', text)\n",
    "    \n",
    "    # Spacing and filters\n",
    "    text = re.sub(r\"([!\\''#$%&()*\\+,-./:;<=>?\\\\\\[\\]^_`{|}~])\", r' \\1 ', text)\n",
    "    text = re.sub('[^A-Za-z0-9]+', ' ', text)\n",
    "    text = re.sub(' +', ' ', text)\n",
    "    text = text.strip()\n",
    "    \n",
    "    # lemmatization\n",
    "    if lemm:\n",
    "        text = ' '.join([lemmatizer.lemmatize(word) for word in text.split(' ')])\n",
    "        \n",
    "    if tokenization:\n",
    "        text = re.split('\\W+', text)\n",
    "        \n",
    "    return text"
   ]
  },
  {
   "cell_type": "code",
   "execution_count": 8,
   "id": "fed0f5d3-327a-4dee-8054-666ed09a0460",
   "metadata": {},
   "outputs": [
    {
     "data": {
      "text/html": [
       "<div>\n",
       "<style scoped>\n",
       "    .dataframe tbody tr th:only-of-type {\n",
       "        vertical-align: middle;\n",
       "    }\n",
       "\n",
       "    .dataframe tbody tr th {\n",
       "        vertical-align: top;\n",
       "    }\n",
       "\n",
       "    .dataframe thead th {\n",
       "        text-align: right;\n",
       "    }\n",
       "</style>\n",
       "<table border=\"1\" class=\"dataframe\">\n",
       "  <thead>\n",
       "    <tr style=\"text-align: right;\">\n",
       "      <th></th>\n",
       "      <th>datetime</th>\n",
       "      <th>tweet_id</th>\n",
       "      <th>text</th>\n",
       "      <th>username</th>\n",
       "      <th>like_count</th>\n",
       "      <th>display_name</th>\n",
       "      <th>lang</th>\n",
       "    </tr>\n",
       "  </thead>\n",
       "  <tbody>\n",
       "    <tr>\n",
       "      <th>0</th>\n",
       "      <td>2022-07-15 23:56:53+00:00</td>\n",
       "      <td>1548094282900221953</td>\n",
       "      <td>government considering creating second state o...</td>\n",
       "      <td>TimesLIVE</td>\n",
       "      <td>85</td>\n",
       "      <td>Times LIVE</td>\n",
       "      <td>en</td>\n",
       "    </tr>\n",
       "    <tr>\n",
       "      <th>2</th>\n",
       "      <td>2022-07-15 23:50:41+00:00</td>\n",
       "      <td>1548092722166132738</td>\n",
       "      <td>way fix current energy crisis splitting eskom ...</td>\n",
       "      <td>KingTNgema</td>\n",
       "      <td>0</td>\n",
       "      <td>Born A King</td>\n",
       "      <td>en</td>\n",
       "    </tr>\n",
       "    <tr>\n",
       "      <th>3</th>\n",
       "      <td>2022-07-15 23:43:00+00:00</td>\n",
       "      <td>1548090785450434566</td>\n",
       "      <td>awarded pushed zuma brian molefe guptas mine g...</td>\n",
       "      <td>Constitution_94</td>\n",
       "      <td>0</td>\n",
       "      <td>Constitution First 🇿🇦</td>\n",
       "      <td>en</td>\n",
       "    </tr>\n",
       "    <tr>\n",
       "      <th>4</th>\n",
       "      <td>2022-07-15 23:40:14+00:00</td>\n",
       "      <td>1548090089334382596</td>\n",
       "      <td>also</td>\n",
       "      <td>katleho_katlii</td>\n",
       "      <td>0</td>\n",
       "      <td>Katleho. 🍫</td>\n",
       "      <td>en</td>\n",
       "    </tr>\n",
       "    <tr>\n",
       "      <th>5</th>\n",
       "      <td>2022-07-15 23:39:22+00:00</td>\n",
       "      <td>1548089872287555584</td>\n",
       "      <td>use gold reserve sort eskom sa debt market fac...</td>\n",
       "      <td>mdange39</td>\n",
       "      <td>0</td>\n",
       "      <td>Tupac</td>\n",
       "      <td>en</td>\n",
       "    </tr>\n",
       "  </tbody>\n",
       "</table>\n",
       "</div>"
      ],
      "text/plain": [
       "                    datetime             tweet_id  \\\n",
       "0  2022-07-15 23:56:53+00:00  1548094282900221953   \n",
       "2  2022-07-15 23:50:41+00:00  1548092722166132738   \n",
       "3  2022-07-15 23:43:00+00:00  1548090785450434566   \n",
       "4  2022-07-15 23:40:14+00:00  1548090089334382596   \n",
       "5  2022-07-15 23:39:22+00:00  1548089872287555584   \n",
       "\n",
       "                                                text         username  \\\n",
       "0  government considering creating second state o...        TimesLIVE   \n",
       "2  way fix current energy crisis splitting eskom ...       KingTNgema   \n",
       "3  awarded pushed zuma brian molefe guptas mine g...  Constitution_94   \n",
       "4                                               also   katleho_katlii   \n",
       "5  use gold reserve sort eskom sa debt market fac...         mdange39   \n",
       "\n",
       "   like_count           display_name lang  \n",
       "0          85             Times LIVE   en  \n",
       "2           0            Born A King   en  \n",
       "3           0  Constitution First 🇿🇦   en  \n",
       "4           0             Katleho. 🍫   en  \n",
       "5           0                  Tupac   en  "
      ]
     },
     "execution_count": 8,
     "metadata": {},
     "output_type": "execute_result"
    }
   ],
   "source": [
    "# Run tweets through cleaning function\n",
    "tweets_df['text'] = tweets_df['text'].apply(clean_text)\n",
    "tweets_df.head()"
   ]
  },
  {
   "cell_type": "code",
   "execution_count": 9,
   "id": "dfee886f-5fc7-47df-9531-e8ba42bcacbe",
   "metadata": {},
   "outputs": [
    {
     "data": {
      "text/plain": [
       "(232743, 7)"
      ]
     },
     "execution_count": 9,
     "metadata": {},
     "output_type": "execute_result"
    }
   ],
   "source": [
    "# Remove tweets with 3 or less words\n",
    "tweets_df = tweets_df[tweets_df['text'].str.split(' ').str.len() > 3]\n",
    "tweets_df.shape"
   ]
  },
  {
   "cell_type": "code",
   "execution_count": 10,
   "id": "5f603128-860e-4285-bbec-736a5e41e73d",
   "metadata": {},
   "outputs": [],
   "source": [
    "tweets_df.to_csv('data/tweets_cleaned.csv', index=False)"
   ]
  },
  {
   "cell_type": "code",
   "execution_count": null,
   "id": "c5b5110b-70b1-48f7-b97d-192d7b7bdec4",
   "metadata": {},
   "outputs": [],
   "source": []
  }
 ],
 "metadata": {
  "kernelspec": {
   "display_name": "Python 3 (ipykernel)",
   "language": "python",
   "name": "python3"
  },
  "language_info": {
   "codemirror_mode": {
    "name": "ipython",
    "version": 3
   },
   "file_extension": ".py",
   "mimetype": "text/x-python",
   "name": "python",
   "nbconvert_exporter": "python",
   "pygments_lexer": "ipython3",
   "version": "3.10.5"
  }
 },
 "nbformat": 4,
 "nbformat_minor": 5
}
